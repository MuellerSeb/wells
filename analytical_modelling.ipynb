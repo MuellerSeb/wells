{
 "cells": [
  {
   "cell_type": "markdown",
   "id": "intellectual-beginning",
   "metadata": {},
   "source": [
    "# Analytical Modelling"
   ]
  },
  {
   "cell_type": "markdown",
   "id": "hourly-margin",
   "metadata": {},
   "source": [
    "Often, a well testing problem can be efficiently investigated using analytical solutions but these may require a degree of sophistication that is cumbersome for hand or Excel calculation.\n",
    "\n",
    "The purpose of this notebook is to demonstrate a few Python techniques for well test modelling."
   ]
  },
  {
   "cell_type": "markdown",
   "id": "banned-oakland",
   "metadata": {},
   "source": [
    "## 1. Implementing a Theis solution"
   ]
  },
  {
   "cell_type": "markdown",
   "id": "descending-wilderness",
   "metadata": {},
   "source": [
    "Theis is the workhorse of pump test analysis in well-confined aquifers. It's reasonably easy to implement once you understand how to code up the well function, $W(u)$\n",
    "\n",
    "\\begin{equation}\n",
    "W(u)=\\int\\limits_{u}^{\\infty}\\frac{1}{y}e^{-y}dy\n",
    "\\end{equation}\n",
    "\n",
    "Fortunately, the exponential integral above is already implemented in `scipy`. The cell below implements the well function as the Python function `W(u)`."
   ]
  },
  {
   "cell_type": "code",
   "execution_count": 2,
   "id": "cultural-reading",
   "metadata": {},
   "outputs": [],
   "source": [
    "from scipy.special import expi\n",
    "\n",
    "def W(u): \n",
    "    return -expi(-u)"
   ]
  },
  {
   "cell_type": "markdown",
   "id": "laughing-maria",
   "metadata": {},
   "source": [
    "Run the cell below to see what the well function looks like. You can see where the logarithmic approximation is valid, for $u<0.05$."
   ]
  },
  {
   "cell_type": "code",
   "execution_count": 3,
   "id": "moderate-exhibition",
   "metadata": {},
   "outputs": [
    {
     "data": {
      "text/plain": [
       "Text(0, 0.5, '$W(u)$')"
      ]
     },
     "execution_count": 3,
     "metadata": {},
     "output_type": "execute_result"
    },
    {
     "data": {
      "image/png": "[encoded data removed]",
      "text/plain": [
       "<Figure size 432x288 with 1 Axes>"
      ]
     },
     "metadata": {
      "needs_background": "light"
     },
     "output_type": "display_data"
    }
   ],
   "source": [
    "%matplotlib inline\n",
    "from matplotlib import pyplot as plt\n",
    "import numpy as np\n",
    "f,ax=plt.subplots(1,1)\n",
    "u = np.logspace(-2,1,101)\n",
    "ax.semilogx(u, W(u),'k.')\n",
    "ax.axvline(0.05, color = 'r', linestyle=':')\n",
    "ax.set_xlabel('$u$'); ax.set_ylabel('$W(u)$')"
   ]
  },
  {
   "cell_type": "markdown",
   "id": "willing-reputation",
   "metadata": {},
   "source": [
    "The `Theis` function is now straightforward to implement (run the cell below)"
   ]
  },
  {
   "cell_type": "code",
   "execution_count": 55,
   "id": "german-chart",
   "metadata": {},
   "outputs": [],
   "source": [
    "def Theis(r,t,Q,S,T): \n",
    "    return Q/(4*np.pi*T)*W(r**2*S/(4*T*t))"
   ]
  },
  {
   "cell_type": "markdown",
   "id": "given-health",
   "metadata": {},
   "source": [
    "The function is already \"vectorized\", which means any of the inputs can be passed as a vector. The plot below gives drawdown 100 m from a well pumped at 20 L/s, in a formation with $T$=2200 m$^2$/d and $S$=10$^{-4}$."
   ]
  },
  {
   "cell_type": "code",
   "execution_count": 56,
   "id": "consolidated-algorithm",
   "metadata": {},
   "outputs": [
    {
     "data": {
      "text/plain": [
       "Text(0, 0.5, 'drawdown [m]')"
      ]
     },
     "execution_count": 56,
     "metadata": {},
     "output_type": "execute_result"
    },
    {
     "data": {
      "image/png": "[encoded data removed]",
      "text/plain": [
       "<Figure size 432x288 with 1 Axes>"
      ]
     },
     "metadata": {
      "needs_background": "light"
     },
     "output_type": "display_data"
    }
   ],
   "source": [
    "f,ax=plt.subplots(1,1)\n",
    "t = np.linspace(0.001,3,101)\n",
    "r,Q,S,T = [100., 20, 1.e-4, 2200]\n",
    "ax.plot(t, Theis(r,t,Q*1.e-3*24*3600,S,T),'k.')\n",
    "ax.set_xlabel('time [days]'); ax.set_ylabel('drawdown [m]')"
   ]
  },
  {
   "cell_type": "markdown",
   "id": "violent-acquisition",
   "metadata": {},
   "source": [
    "***Why did we apply the scaling `Q*1.e-3*24*3600`?***\n",
    "\n",
    "***Create a plot of drawdown over time inside a well of radius 0.3 m pumped at 2 m$^3$/min, $S$=0.2, $T$=200 m$^2$/s***\n",
    "\n",
    "***Create a plot of drawdown with distance for the same parameters, at `t=0.1` and `t=1.5` days.***"
   ]
  },
  {
   "cell_type": "code",
   "execution_count": 57,
   "id": "occasional-message",
   "metadata": {},
   "outputs": [],
   "source": [
    "# your code here"
   ]
  },
  {
   "cell_type": "markdown",
   "id": "appropriate-preference",
   "metadata": {},
   "source": [
    "## 2. Superposition of elementary solutions"
   ]
  },
  {
   "cell_type": "markdown",
   "id": "cloudy-tumor",
   "metadata": {},
   "source": [
    "We can use superposition to:\n",
    "1. Model the drawdown at a location due to multiple pumping wells.\n",
    "2. Model the drawdown due a single well being pumped at different rates."
   ]
  },
  {
   "cell_type": "markdown",
   "id": "absent-roads",
   "metadata": {},
   "source": [
    "### 2.1 Multiple wells"
   ]
  },
  {
   "cell_type": "markdown",
   "id": "accessible-nutrition",
   "metadata": {},
   "source": [
    "Suppose we are monitoring an observation well that is:\n",
    "1. 100 m from a well that has been pumping at 20 L/s for the last 3 days.\n",
    "2. 50 m from a well that has been pumping at 30 L/s for only the last day.\n",
    "\n",
    "What should the drawdown profile look like over time? (Assume the same aquifer parameters as the example in 1.)"
   ]
  },
  {
   "cell_type": "code",
   "execution_count": 58,
   "id": "authorized-priest",
   "metadata": {},
   "outputs": [
    {
     "data": {
      "text/plain": [
       "Text(0, 0.5, 'drawdown [m]')"
      ]
     },
     "execution_count": 58,
     "metadata": {},
     "output_type": "execute_result"
    },
    {
     "data": {
      "image/png": "[encoded data removed]",
      "text/plain": [
       "<Figure size 432x288 with 1 Axes>"
      ]
     },
     "metadata": {
      "needs_background": "light"
     },
     "output_type": "display_data"
    }
   ],
   "source": [
    "# APPROACH: create a time vector for the solution and use a loop to compute drawdown contributions from the individual wells\n",
    "t = np.linspace(0.001,3,101)\n",
    "h = 0.*t\n",
    "S,T = [1.e-4, 2200]\n",
    "r1,t1,Q1 = [100,0., 20]  # well 1 starts at t=0 (pumping for the last three days)\n",
    "r2,t2,Q2 = [50, 2., 30]  # well 2 starts at t=2 (pumping for only the last day)\n",
    "\n",
    "for i in range(len(t)):\n",
    "    # contribution from well 1\n",
    "    if t[i]>t1:\n",
    "        h[i] = h[i] + Theis(r1, t[i]-t1, Q1*1.e-3*24*3600, S, T)\n",
    "    # contribution from well 2\n",
    "    if t[i]>t2:\n",
    "        h[i] = h[i] + Theis(r2, t[i]-t2, Q2*1.e-3*24*3600, S, T)\n",
    "\n",
    "f,ax=plt.subplots(1,1)\n",
    "ax.plot(t, h,'k-')\n",
    "ax.set_xlabel('time [days]'); ax.set_ylabel('drawdown [m]')"
   ]
  },
  {
   "cell_type": "markdown",
   "id": "complete-pollution",
   "metadata": {},
   "source": [
    "***Add a third well that has been pumping for 10 L/s for the last 2 days at a distance of 40 m from the observation well.***"
   ]
  },
  {
   "cell_type": "code",
   "execution_count": 59,
   "id": "governing-delivery",
   "metadata": {},
   "outputs": [],
   "source": [
    "# your code here"
   ]
  },
  {
   "cell_type": "markdown",
   "id": "young-cycling",
   "metadata": {},
   "source": [
    "### 2.2 Step-rate pumping"
   ]
  },
  {
   "cell_type": "markdown",
   "id": "reliable-cartoon",
   "metadata": {},
   "source": [
    "Suppose we pump a well at:\n",
    "1. 10 L/s for 30 mins, then\n",
    "2. 15 L/s for another 30 mins.\n",
    "\n",
    "What should the drawdown profile look like in the well, if the diameter is 0.7 m and there are no well losses?"
   ]
  },
  {
   "cell_type": "code",
   "execution_count": 60,
   "id": "effective-opposition",
   "metadata": {},
   "outputs": [],
   "source": [
    "# APPROACH: same as 2.1, except R1 = R2 = well radius and Q2 = size of pumping step.\n",
    "# your code here"
   ]
  },
  {
   "cell_type": "markdown",
   "id": "israeli-demand",
   "metadata": {},
   "source": [
    "***Add a third pumping step, at 25 L/s for another 60 mins.***\n",
    "\n",
    "***Pumping is halted and the well is allowed to recover. Model this as a negative pumping step of 25 L/s. Plot the recovery for the next 2 hours.***"
   ]
  },
  {
   "cell_type": "markdown",
   "id": "thorough-afternoon",
   "metadata": {},
   "source": [
    "## 3. Solving equations containing pumping solutions"
   ]
  },
  {
   "cell_type": "markdown",
   "id": "eight-motor",
   "metadata": {},
   "source": [
    "Pumping solutions introduce all sorts of non-linearity and the potential for analytically non-invertible equations.\n",
    "\n",
    "For example, suppose we are monitoring an observation bore. We have pumped a well 100 m away at 10 L/s for the last 30 mins and a second well 75 m away at 5 L/s for the last 60 mins. If the drawdown is 30 cm and the transmissivity is known to be 1650 m$^2$/d, what is the storativity, $S$?\n",
    "\n",
    "Obviously, this is a complex (and contrived!) problem. Let's write out the superposition of Theis solutions\n",
    "\n",
    "\\begin{equation}\n",
    "h = \\underbrace{\\frac{Q_1}{4\\pi T}W\\left(\\frac{r_1^2S}{4T(t-t_1)}\\right)}_{\\text{first well}} + \\underbrace{\\frac{Q_2}{4\\pi T}W\\left(\\frac{r_2^2S}{4T(t-t_2)}\\right)}_{\\text{second well}}\n",
    "\\end{equation}\n",
    "\n",
    "Which with known quantities converted to metres and days, and then substituted is\n",
    "\n",
    "\\begin{equation}\n",
    "0.3 = \\frac{864}{4\\pi\\cdot 1650}W\\left(\\frac{100^2\\cdot S}{4\\cdot1650\\cdot 0.021}\\right) + \\frac{432}{4\\pi\\cdot 1650}W\\left(\\frac{75^2\\cdot S}{4\\cdot1650\\cdot0.042}\\right)\n",
    "\\end{equation}\n",
    "\n",
    "One way to solve for $S$ is by guess-and-check but that can take a while.\n",
    "\n",
    "Another way is to use Python's root finding functions to solve the above equation in the form $LHS-RHS=0$."
   ]
  },
  {
   "cell_type": "code",
   "execution_count": 61,
   "id": "irish-median",
   "metadata": {},
   "outputs": [
    {
     "name": "stdout",
     "output_type": "stream",
     "text": [
      "Storativity is 9.752853715820548e-05\n"
     ]
    }
   ],
   "source": [
    "from scipy.optimize import fsolve\n",
    "\n",
    "# define the known parameters\n",
    "h,r1,r2,Q1,Q2,t1,t2,T = [0.3,100,75,864,432,1./48,1./24,1650]\n",
    "\n",
    "# define the root function for minimising, LHS - RHS, with the function input the unknown quantity\n",
    "def f(S): \n",
    "    return h-Q1/(4*np.pi*T)*W(r1**2*S/(4*T*t1))-Q2/(4*np.pi*T)*W(r2**2*S/(4*T*t2))\n",
    "\n",
    "# pass the FUNCTION HANDLE (name) and an initial guess [0.001] to the root function\n",
    "S = fsolve(f,0.001)[0]\n",
    "print(\"Storativity is\", S)"
   ]
  },
  {
   "cell_type": "markdown",
   "id": "supreme-referral",
   "metadata": {},
   "source": [
    "***Given the values $\\beta$=10$^{-3}$ d/m$^2$, $r_w$=0.25 m, $S$=10$^{-4}$ and $t_{test}$=30 mins, use `fsolve` to show that the transmissivity in the equation below is $T$=1280 m$^2$/d.***\n",
    "\n",
    "\\begin{equation}\n",
    "\\beta = \\frac{1}{4\\pi T}W\\left(\\frac{r_w^2 S}{4Tt_{test}}\\right)\n",
    "\\end{equation}\n",
    "\n",
    "***For $h_{max}$=0.5 m, $\\alpha$=1.e-13, $n$=3.5 and $t_{pump}$=1 year, use `fsolve` to show that the max. pumping rate in the equation below is $Q_{max}$=311 m$^3$/d.***\n",
    "\n",
    "\\begin{equation}\n",
    "h_{max} = \\frac{Q_{max}}{4\\pi T}W\\left(\\frac{r_w^2 S}{4Tt_{pump}}\\right)+\\alpha Q_{max}^n\n",
    "\\end{equation}"
   ]
  },
  {
   "cell_type": "code",
   "execution_count": 62,
   "id": "functioning-disclaimer",
   "metadata": {},
   "outputs": [],
   "source": [
    "# your code here"
   ]
  },
  {
   "cell_type": "markdown",
   "id": "common-combining",
   "metadata": {},
   "source": [
    "## (Extra) Fitting pumping solutions to data"
   ]
  },
  {
   "cell_type": "markdown",
   "id": "charming-notification",
   "metadata": {},
   "source": [
    "We use pumping solutions to make sense of the data. One way to do this is the graphical method you learned in class.\n",
    "\n",
    "A more general approach is to plot the data and a numerical model over top of each other. Then, make changes to the model parameters until a good match is achieved.\n",
    "\n",
    "This can be done automatically with a Python function called `curve_fit`.\n",
    "\n",
    "First, let's create some fake pumping data with *known* transmissivity $T$=1500 m$^2$/d and $S$=0.0034"
   ]
  },
  {
   "cell_type": "code",
   "execution_count": 70,
   "id": "clean-demonstration",
   "metadata": {},
   "outputs": [
    {
     "data": {
      "image/png": "[encoded data removed]",
      "text/plain": [
       "<Figure size 720x288 with 2 Axes>"
      ]
     },
     "metadata": {
      "needs_background": "light"
     },
     "output_type": "display_data"
    }
   ],
   "source": [
    "T,S = [1500,0.0034]\n",
    "r,Q,tpump = [200., 25.*1.e-3*24*3600, 3.]    # 3 day test at 25 L/s, observed at 200 m\n",
    "td = np.logspace(-2,np.log10(tpump), 31)      # 31 log-spaced measurements\n",
    "hd = Theis(r,td,Q,S,T)                         # drawdown observations\n",
    "\n",
    "hd = hd*(1.+0.1*np.random.randn(len(hd)))                 # add 10% normally distributed random noise - for a challenge\n",
    "\n",
    "f,(ax1,ax2) = plt.subplots(1,2, figsize=(10,4))\n",
    "ax1.plot(td,hd,'ko',mfc='w')\n",
    "ax2.semilogx(td,hd,'ko',mfc='w')\n",
    "for ax in [ax1,ax2]:ax.set_xlabel('time [days]');ax.set_ylabel('drawdown [m]')\n",
    "    \n",
    "# note, this is not the most accurate way to model pump test noise, it is for demonstration purposes only"
   ]
  },
  {
   "cell_type": "markdown",
   "id": "banned-bonus",
   "metadata": {},
   "source": [
    "Python `curve_fit` works by finding the parameters that minimize the sum-of-squares misfit between data and a model.\n",
    "\n",
    "The 'model' must be expressed as a Python function, $f$, with a very particular input structure:\n",
    "1. The first argument is the independent variable (time).\n",
    "2. Subsequent arguments are parameters that `curve_fit` can play with ($T$ and $S$).\n",
    "3. Any other parameters should be hard-coded.\n",
    "4. The function must return the same thing measured by the data (drawdown).\n",
    "\n",
    "See below for a function meeting this requirement."
   ]
  },
  {
   "cell_type": "code",
   "execution_count": 74,
   "id": "educated-japanese",
   "metadata": {},
   "outputs": [],
   "source": [
    "def pump_test_model(t, T, S):\n",
    "    # note how r and Q have been hard-coded - we know what these are\n",
    "    return Theis(200., t, 25.*1.e-3*24*3600, S, T)"
   ]
  },
  {
   "cell_type": "markdown",
   "id": "homeless-highland",
   "metadata": {},
   "source": [
    "Now we call `curve_fit`, passing it the model (function handle/name), the data, and our starting guess at the model parameters."
   ]
  },
  {
   "cell_type": "code",
   "execution_count": 78,
   "id": "simple-richards",
   "metadata": {},
   "outputs": [
    {
     "name": "stdout",
     "output_type": "stream",
     "text": [
      "best-fit T = 1495.7358957318952 and S = 0.0034192470900673037\n"
     ]
    }
   ],
   "source": [
    "from scipy.optimize import curve_fit\n",
    "p,pcov = curve_fit(pump_test_model, td, hd, [1000, 1.e-2])\n",
    "print('best-fit T =', p[0],'and S =', p[1])"
   ]
  },
  {
   "cell_type": "markdown",
   "id": "comparative-kingston",
   "metadata": {},
   "source": [
    "The first output is a vector of the estimated parameters. We'll use it to plot the 'best' model over the data."
   ]
  },
  {
   "cell_type": "code",
   "execution_count": 76,
   "id": "based-scheduling",
   "metadata": {},
   "outputs": [
    {
     "data": {
      "image/png": "[encoded data removed]",
      "text/plain": [
       "<Figure size 720x288 with 2 Axes>"
      ]
     },
     "metadata": {
      "needs_background": "light"
     },
     "output_type": "display_data"
    }
   ],
   "source": [
    "f,(ax1,ax2) = plt.subplots(1,2, figsize=(10,4))\n",
    "ax1.plot(td,hd,'ko',mfc='w')\n",
    "ax1.plot(t,pump_test_model(t, p[0], p[1]),'r-')\n",
    "ax2.semilogx(td,hd,'ko',mfc='w')\n",
    "ax2.semilogx(t,pump_test_model(t, p[0], p[1]),'r-')\n",
    "for ax in [ax1,ax2]:ax.set_xlabel('time [days]');ax.set_ylabel('drawdown [m]')"
   ]
  },
  {
   "cell_type": "markdown",
   "id": "looking-center",
   "metadata": {},
   "source": [
    "## (Extra) Uncertainty of best-fit pumping solutions"
   ]
  },
  {
   "cell_type": "markdown",
   "id": "directed-track",
   "metadata": {},
   "source": [
    "If we are not precisely certain of the data, then it can be possible for more than one model to provide a credible fit to the data. \n",
    "\n",
    "There are numerous ways to handle model uncertainty (and the best way depends on where the error is coming from - are the data noisy or is the conceptual model wrong?)\n",
    "\n",
    "A simple way to get a first cut at model uncertainty is called Linear Sensitivity Analysis. `curve_fit` returns a second output called the covariance matrix, which gives some indication about how confident it is estimating the values of $T$ and $S$. \n",
    "\n",
    "We can use the covariance matrix to generate \"possible pairs\" of $[T,S]$ and plot these models.\n",
    "\n",
    "We can also use ranges of the sampled parameters to construct uncertainty estimates. In this case, we estimate transmissivity to be between 1375 and 1635 m$^2$/d with 90% confidence (in fact, it is 1500 m$^2$/d), and storativity between 2.8 and 4.0e-3 (in fact, it is 3.4e-3)."
   ]
  },
  {
   "cell_type": "code",
   "execution_count": 83,
   "id": "weekly-aquatic",
   "metadata": {},
   "outputs": [
    {
     "name": "stdout",
     "output_type": "stream",
     "text": [
      "covariance matrix is [[ 7.39167657e+03 -2.71649918e-02]\n",
      " [-2.71649918e-02  1.44047134e-07]]\n",
      "5 to 95-percentile range of T is [1374.13,1635.84]\n",
      "5 to 95-percentile range of S is [2.75e-03,3.96e-03]\n"
     ]
    },
    {
     "data": {
      "image/png": "[encoded data removed]",
      "text/plain": [
       "<Figure size 720x288 with 2 Axes>"
      ]
     },
     "metadata": {
      "needs_background": "light"
     },
     "output_type": "display_data"
    }
   ],
   "source": [
    "from scipy.optimize import curve_fit\n",
    "p,pcov = curve_fit(pump_test_model, td, hd, [1000, 1.e-2])\n",
    "print('covariance matrix is', pcov)\n",
    "\n",
    "f,(ax1,ax2) = plt.subplots(1,2, figsize=(10,4))\n",
    "ax1.plot(td,hd,'ko',mfc='w')\n",
    "ax2.semilogx(td,hd,'ko',mfc='w')\n",
    "\n",
    "N = 100   # number of possible pairs to generate\n",
    "Ts = []; Ss = []\n",
    "for p in np.random.multivariate_normal(p, pcov, N):\n",
    "    ax1.plot(t,pump_test_model(t, *p),'r-', lw=0.2, alpha=0.2)\n",
    "    ax2.semilogx(t,pump_test_model(t, *p),'r-', lw=0.2, alpha=0.2)\n",
    "    Ts.append(p[0]); Ss.append(p[1])\n",
    "    \n",
    "for ax in [ax1,ax2]:ax.set_xlabel('time [days]');ax.set_ylabel('drawdown [m]')\n",
    "    \n",
    "print('5 to 95-percentile range of T is [{:3.2f},{:3.2f}]'.format(*np.percentile(Ts,[5,95])))\n",
    "print('5 to 95-percentile range of S is [{:3.2e},{:3.2e}]'.format(*np.percentile(Ss,[5,95])))\n",
    "    "
   ]
  }
 ],
 "metadata": {
  "kernelspec": {
   "display_name": "py37",
   "language": "python",
   "name": "py37"
  },
  "language_info": {
   "codemirror_mode": {
    "name": "ipython",
    "version": 3
   },
   "file_extension": ".py",
   "mimetype": "text/x-python",
   "name": "python",
   "nbconvert_exporter": "python",
   "pygments_lexer": "ipython3",
   "version": "3.7.9"
  }
 },
 "nbformat": 4,
 "nbformat_minor": 5
}
