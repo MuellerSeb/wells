{
 "cells": [
  {
   "cell_type": "markdown",
   "metadata": {},
   "source": [
    "# Well testing"
   ]
  },
  {
   "cell_type": "markdown",
   "metadata": {},
   "source": [
    "Consider a simple groundwater system that comprises a **confining layer** and a **confined aquifer** beneath it. The **piezometric surface**<sup>1</sup> sits just below the ground surface.\n",
    "\n",
    "A **pumping well** has been drilled that is screened across the entire depth of the aquifer. An **observation well** has also been drilled with the water level in this well reflecting the piezometric surface at that location.\n",
    "\n",
    "> *Run the* ***notebook cell*** *below that begins* **`from`**` well_test `**`import`** *by clicking inside it and hitting* **`Ctrl+Enter`.**\n",
    "\n",
    "<sup>1 The piezometric surface for a confined aquifer is **not necessarily** the same as the water table. It reflects the relative pressure in the confined aquifer and could be higher or lower than the water table depending land surface elevation or past abstraction. In an **unconfined aquifer** the piezometric surface **does** coincide with the water table.</sup>"
   ]
  },
  {
   "cell_type": "code",
   "execution_count": 2,
   "metadata": {},
   "outputs": [
    {
     "data": {
      "application/vnd.jupyter.widget-view+json": {
       "model_id": "dcb46760f6954bc9bd286419ae138857",
       "version_major": 2,
       "version_minor": 0
      },
      "text/plain": [
       "VBox(children=(HBox(children=(FloatSlider(value=200.0, continuous_update=False, description='$r$ [m]', max=500…"
      ]
     },
     "metadata": {},
     "output_type": "display_data"
    }
   ],
   "source": [
    "from well_test import*\n",
    "conceptual_model()"
   ]
  },
  {
   "cell_type": "markdown",
   "metadata": {},
   "source": [
    "***Conceptual Exercises***\n",
    "\n",
    "1. Use the slider to move the observation well from left to right. Does the water level change? Why/why not?\n",
    "2. Do the piezometric surface in the confined and unconfined aquifer **have to** be the same?"
   ]
  },
  {
   "cell_type": "markdown",
   "metadata": {},
   "source": [
    "## Pumping a confined aquifer"
   ]
  },
  {
   "cell_type": "markdown",
   "metadata": {},
   "source": [
    "The purpose of well testing is to **measure** specific properties of the nearby rock that contains groundwater, principally **storage**, $S$, and **transmissivity**, $T$. These help us to later **predict** how an aquifer will respond to future abstraction.\n",
    "\n",
    "For a **confined aquifer**, the Theis equation can be used to estimate $S$ and $T$ from observations of **drawdown**, $s$.\n",
    "\n",
    "\\begin{equation}\n",
    "s = \\frac{1}{4\\pi} \\frac{Q}{T} W\\left(\\frac{r^2S}{4Tt}\\right)\\quad\\quad\\approx 0.183\\frac{Q}{T}\\log\\left(\\frac{2.25 Tt}{r^2S}\\right)\\quad\\text{when}\\quad\\frac{r^2S}{4Tt}<0.05\n",
    "\\end{equation}\n",
    "\n",
    "where $r$ is distance to the observation well, $t$ is time, $S$ is storage, $Q$ is pumping rate, and $T$ is transmissivity.\n",
    "\n",
    "> *Run the Notebook Cell below, which uses the* **log** *approximation above to model drawdown.*"
   ]
  },
  {
   "cell_type": "code",
   "execution_count": 3,
   "metadata": {},
   "outputs": [
    {
     "data": {
      "application/vnd.jupyter.widget-view+json": {
       "model_id": "588891f07ab14a3f8774eab2b0a94211",
       "version_major": 2,
       "version_minor": 0
      },
      "text/plain": [
       "VBox(children=(HBox(children=(FloatSlider(value=1000.0, continuous_update=False, description='$Q$ [m$^3$/day]'…"
      ]
     },
     "metadata": {},
     "output_type": "display_data"
    }
   ],
   "source": [
    "confined_aquifer(analysis = True)"
   ]
  },
  {
   "cell_type": "markdown",
   "metadata": {},
   "source": [
    "***Conceptual Exercises***\n",
    "\n",
    "> 1. Describe how the shape of the piezometric surface has **changed**.\n",
    "> 2. Explain why the piezometric surface is **steeper** closer to the well.\n",
    "\n",
    "*Use the sliders to vary the pumping rate and aquifer transmissivity.*\n",
    "\n",
    "> 3. Complete the following sentences:\n",
    ">     1. *Increasing $Q$ causes drawdown to increase/decrease. This is because...*\n",
    ">     2. *Increasing $T$ causes drawdown to increase/decrease. This is because...*\n",
    "\n",
    "*Use the sliders to change the location of the observation well and the time at which drawdown is observed.*\n",
    "\n",
    "> 4. Why does the water level in the well change:\n",
    ">     1. with time?\n",
    ">     2. with location?\n",
    "    \n",
    "*Change the keyword to* **Notebook Cell** *to* `analysis =`**`True`** *and then rerun the cell. The* **righthand plot** *records water level changes in the observation well over time.*\n",
    "\n",
    "> 5. Using the time slider, add more observations to the plot. Does drawdown accelerate or slow with time? Why?\n",
    "> 6. Setting the time slider to its maximum value, make changes on the $r$, $Q$ and $T$ sliders. Do the changes on the plot reconcile with your answers to 3A, 3B and 4B above?\n",
    "\n",
    "*Select the * `semilog` *checkbox to modify how the time axis is plotted.*\n",
    "\n",
    "> 7. Describe the shape of the data and reconcile this with the equation above.\n",
    "> 8. How is the **gradient** and **intercept** sensitive to changes in $Q$, $T$ and $r$?\n",
    "\n",
    "*Set the slider positions to $Q$=1500 m<sup>3</sup>/day, $T$=1500 m<sup>2</sup>/day and $t$=1 day.*\n",
    "\n",
    "> 9. Is the piezometric surface displaying any strange behaviour? Can you explain why this occurs?\n",
    "> 10. Deselect the `approx` checkbox to activate the full Theis solution. Explain any changes you observe;\n",
    ">     1. In the cone of depression drawn on the conceptual model.\n",
    ">     2. In the plotted data (increase the time slider to check this one).\n"
   ]
  },
  {
   "cell_type": "markdown",
   "metadata": {},
   "source": [
    "## Pumping a confined aquifer with leakage from above"
   ]
  },
  {
   "cell_type": "markdown",
   "metadata": {},
   "source": [
    "Many confining layers provide an imperfect resistance to the flow of water. "
   ]
  },
  {
   "cell_type": "code",
   "execution_count": 4,
   "metadata": {
    "scrolled": false
   },
   "outputs": [
    {
     "data": {
      "application/vnd.jupyter.widget-view+json": {
       "model_id": "95cb447fe79248de8091f50558b24f50",
       "version_major": 2,
       "version_minor": 0
      },
      "text/plain": [
       "VBox(children=(HBox(children=(FloatSlider(value=1000.0, continuous_update=False, description='$Q$ [m$^3$/day]'…"
      ]
     },
     "metadata": {},
     "output_type": "display_data"
    }
   ],
   "source": [
    "leaky_aquifer()"
   ]
  },
  {
   "cell_type": "code",
   "execution_count": 5,
   "metadata": {},
   "outputs": [
    {
     "data": {
      "application/vnd.jupyter.widget-view+json": {
       "model_id": "d46a0033e954455a9a8496fba2f04b8d",
       "version_major": 2,
       "version_minor": 0
      },
      "text/plain": [
       "VBox(children=(HBox(children=(FloatSlider(value=1000.0, continuous_update=False, description='$Q$ [m$^3$/day]'…"
      ]
     },
     "metadata": {},
     "output_type": "display_data"
    }
   ],
   "source": [
    "flow_barrier()"
   ]
  },
  {
   "cell_type": "code",
   "execution_count": 6,
   "metadata": {
    "scrolled": false
   },
   "outputs": [
    {
     "data": {
      "application/vnd.jupyter.widget-view+json": {
       "model_id": "df5391c192474afb96ca05d8ad16925b",
       "version_major": 2,
       "version_minor": 0
      },
      "text/plain": [
       "VBox(children=(HBox(children=(Dropdown(description='Aquifer type', index=1, options={'confined': 1, 'leaky aqu…"
      ]
     },
     "metadata": {},
     "output_type": "display_data"
    }
   ],
   "source": [
    "all_options()\n",
    "#550**2*1.9e-3/(4*100*1)"
   ]
  },
  {
   "cell_type": "markdown",
   "metadata": {},
   "source": [
    "Answer the questions below with `analysis=True`.\n",
    "- ***What five conditions cause drawdown to be larger? (e.g., complete the sentence ***\"Drawdown is larger when ...\"*** five times.)***\n",
    "- ***Set $Q$ = 1500, $T$ = 100, and check the button `approx`. Explain why the plotted curve is problematic and propose a resolution.***\n",
    "- ***Set $Q$ = 1000, $T$ = 300, $r$ = 150, and check `SemiLog`. Estimate from the curve a value for $T$ and $S$. Your value of $T$ should be 300, and your value of $S$ can be checked by inspecing the code in `well.py`.***\n"
   ]
  }
 ],
 "metadata": {
  "kernelspec": {
   "display_name": "py37",
   "language": "python",
   "name": "py37"
  },
  "language_info": {
   "codemirror_mode": {
    "name": "ipython",
    "version": 3
   },
   "file_extension": ".py",
   "mimetype": "text/x-python",
   "name": "python",
   "nbconvert_exporter": "python",
   "pygments_lexer": "ipython3",
   "version": "3.7.9"
  }
 },
 "nbformat": 4,
 "nbformat_minor": 2
}
